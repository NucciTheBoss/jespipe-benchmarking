{
 "cells": [
  {
   "cell_type": "code",
   "execution_count": 1,
   "source": [
    "import skdim\n",
    "import pandas as pd\n",
    "import numpy as np"
   ],
   "outputs": [],
   "metadata": {}
  },
  {
   "cell_type": "markdown",
   "source": [
    "### Calculate the Optimal Intrinsic Dimension of the Ozone Level Dataset"
   ],
   "metadata": {}
  },
  {
   "cell_type": "code",
   "execution_count": 2,
   "source": [
    "ozone_df = pd.read_csv(\"ozone-level/ozone-level.csv\", header=None)\n",
    "\n",
    "# Estimate the global intrinsic dimension:\n",
    "danco = skdim.id.DANCo().fit(ozone_df)\n",
    "\n",
    "# Estimate the local intrsinic dimension (dimension in k-nearest-neighborhoods around each point):\n",
    "lpca = skdim.id.lPCA().fit_pw(ozone_df, n_neighbors=100, n_jobs=1)\n",
    "\n",
    "# lpca.dimension_pw_ is the value we are looking for\n",
    "print(danco.dimension_, np.mean(lpca.dimension_pw_))"
   ],
   "outputs": [
    {
     "output_type": "stream",
     "name": "stdout",
     "text": [
      "Warning: your data might contain duplicate rows, which can affect results\n",
      "nan 7.984621451104101\n"
     ]
    }
   ],
   "metadata": {}
  },
  {
   "cell_type": "markdown",
   "source": [
    "### Calculate the Optimal Intrinsic Dimension of the Google Stock Dataset"
   ],
   "metadata": {}
  },
  {
   "cell_type": "code",
   "execution_count": 3,
   "source": [
    "google_df = pd.read_csv(\"google-stock/google-stock.csv\", header=None)\n",
    "\n",
    "# Estimate the global instrinsic dimension:\n",
    "danco = skdim.id.DANCo().fit(google_df)\n",
    "\n",
    "# Estimate the local intrsinic dimension (dimension in k-nearest-neighborhoods around each point):\n",
    "lpca = skdim.id.lPCA().fit_pw(google_df, n_neighbors=100, n_jobs=1)\n",
    "\n",
    "# lpca.dimension_pw_ is the value we are looking for\n",
    "print(danco.dimension_, np.mean(lpca.dimension_pw_))"
   ],
   "outputs": [
    {
     "output_type": "stream",
     "name": "stdout",
     "text": [
      "4.015852297348991 1.7301927194860813\n"
     ]
    }
   ],
   "metadata": {}
  }
 ],
 "metadata": {
  "orig_nbformat": 4,
  "language_info": {
   "name": "python",
   "version": "3.9.5",
   "mimetype": "text/x-python",
   "codemirror_mode": {
    "name": "ipython",
    "version": 3
   },
   "pygments_lexer": "ipython3",
   "nbconvert_exporter": "python",
   "file_extension": ".py"
  },
  "kernelspec": {
   "name": "python3",
   "display_name": "Python 3.9.5 64-bit"
  },
  "interpreter": {
   "hash": "e7370f93d1d0cde622a1f8e1c04877d8463912d04d973331ad4851f04de6915a"
  }
 },
 "nbformat": 4,
 "nbformat_minor": 2
}