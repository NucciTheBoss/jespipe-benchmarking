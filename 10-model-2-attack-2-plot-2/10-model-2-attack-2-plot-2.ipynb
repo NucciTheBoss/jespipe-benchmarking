{
 "cells": [
  {
   "cell_type": "markdown",
   "source": [
    "# 10 models, 2 attacks, and 2 plots simulation benchmark\n",
    "***\n",
    "\n",
    "### **Data Sets:** Google Stock; Ozone Level"
   ],
   "metadata": {}
  },
  {
   "cell_type": "markdown",
   "source": [
    "## Simulation Environment Setup:\n",
    "***"
   ],
   "metadata": {}
  },
  {
   "cell_type": "markdown",
   "source": [
    "```bash\n",
    "git clone https://github.com/NucciTheBoss/mtsr-datasets.git\n",
    "cp -r mtsr-datasets/google-stock ~/simu/jespipe/\n",
    "cp -r mtsr-datasets/ozone-level ~/simu/jespipe/\n",
    "git clone https://github.com/NucciTheBoss/jespipe-plugin.git\n",
    "mkdir -p ~/simu/jespipe/plugins/{manips,models/RNN,attacks,plots}\n",
    "cp jespipe-plugin/plotting-plugins/* ~/simu/plugins/manips/\n",
    "cp jespipe-plugin/model-plugins/RNN/* ~/simu/jespipe/plugins/models/RNN/\n",
    "cp jespipe-plugin/attack-plugins/* ~/simu/jespipe/plugins/attacks/\n",
    "cp jespipe-plugin/plotting-plugins/* ~/simu/jespipe/plugins/plots/\n",
    "```"
   ],
   "metadata": {}
  },
  {
   "cell_type": "markdown",
   "source": [
    "## Lauch Command:\n",
    "***"
   ],
   "metadata": {}
  },
  {
   "cell_type": "markdown",
   "source": [
    "```bash\n",
    "screen\n",
    "module use ~/sw/modules && module load mpi/openmpi-x86_64 python\n",
    "time mpirun -n 8 python main.py 10-model-2-attack-2-plot-2.xml\n",
    "```"
   ],
   "metadata": {}
  },
  {
   "cell_type": "markdown",
   "source": [
    "## Results:\n",
    "***"
   ],
   "metadata": {}
  },
  {
   "cell_type": "markdown",
   "source": [],
   "metadata": {}
  }
 ],
 "metadata": {
  "orig_nbformat": 4,
  "language_info": {
   "name": "python"
  }
 },
 "nbformat": 4,
 "nbformat_minor": 2
}