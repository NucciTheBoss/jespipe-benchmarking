{
 "cells": [
  {
   "cell_type": "markdown",
   "source": [
    "# 10 models, 2 attacks, and 2 plots simulation benchmark\n",
    "***\n",
    "\n",
    "### **Data Sets:** Google Stock; Ozone Level"
   ],
   "metadata": {}
  },
  {
   "cell_type": "markdown",
   "source": [
    "## Simulation Environment Setup:\n",
    "***"
   ],
   "metadata": {}
  },
  {
   "cell_type": "markdown",
   "source": [
    "```bash\n",
    "git clone https://github.com/NucciTheBoss/mtsr-datasets.git\n",
    "cp -r mtsr-datasets/google-stock ~/simu/google/jespipe/\n",
    "cp -r mtsr-datasets/ozone-level ~/simu/ozone/jespipe/\n",
    "git clone https://github.com/NucciTheBoss/jespipe-plugin.git\n",
    "mkdir -p ~/simu/google/jespipe/plugins/{manips,models/RNN,attacks,plots}\n",
    "mkdir -p ~/simu/ozone/jespipe/plugins/{manips,models/RNN,attacks,plots}\n",
    "cp jespipe-plugin/plotting-plugins/* ~/simu/google/jespipe/plugins/manips/\n",
    "cp jespipe-plugin/plotting-plugins/* ~/simu/ozone/jespipe/plugins/manips/\n",
    "cp jespipe-plugin/model-plugins/RNN/* ~/simu/google/jespipe/plugins/models/RNN\n",
    "cp jespipe-plugin/model-plugins/RNN/* ~/simu/ozone/jespipe/plugins/models/RNN\n",
    "cp jespipe-plugin/attack-plugins/* ~/simu/google/jespipe/plugins/attacks\n",
    "cp jespipe-plugin/attack-plugins/* ~/simu/ozone/jespipe/plugins/attacks\n",
    "cp jespipe-plugin/plotting-plugins/* ~/simu/google/jespipe/plugins/plots\n",
    "cp jespipe-plugin/plotting-plugins/* ~/simu/ozone/jespipe/plugins/plots\n",
    "```"
   ],
   "metadata": {}
  },
  {
   "cell_type": "markdown",
   "source": [
    "## Lauch Command:\n",
    "***"
   ],
   "metadata": {}
  },
  {
   "cell_type": "markdown",
   "source": [
    "```bash\n",
    "screen\n",
    "module use ~/sw/modules && module load mpi/openmpi-x86_64 python\n",
    "time mpirun -n 8 python main.py 10-model-2-attack-2-plot-2.xml\n",
    "```"
   ],
   "metadata": {}
  },
  {
   "cell_type": "markdown",
   "source": [
    "## Results:\n",
    "***"
   ],
   "metadata": {}
  },
  {
   "cell_type": "markdown",
   "source": [],
   "metadata": {}
  }
 ],
 "metadata": {
  "orig_nbformat": 4,
  "language_info": {
   "name": "python"
  }
 },
 "nbformat": 4,
 "nbformat_minor": 2
}